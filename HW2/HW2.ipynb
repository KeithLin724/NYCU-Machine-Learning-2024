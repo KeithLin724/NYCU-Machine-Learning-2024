{
 "cells": [
  {
   "cell_type": "markdown",
   "metadata": {},
   "source": [
    "# NYCU Machine learning HW2 : Linear Discriminant Analysis \n",
    "## Written By 313511068 練鈞揚"
   ]
  },
  {
   "cell_type": "code",
   "execution_count": 242,
   "metadata": {},
   "outputs": [],
   "source": [
    "import numpy as np\n",
    "import pandas as pd\n",
    "\n",
    "from rich import print"
   ]
  },
  {
   "cell_type": "code",
   "execution_count": 243,
   "metadata": {},
   "outputs": [],
   "source": [
    "# setting\n",
    "np.set_printoptions(precision=2, suppress=True)"
   ]
  },
  {
   "cell_type": "code",
   "execution_count": 244,
   "metadata": {},
   "outputs": [],
   "source": [
    "LABEL = [\"Setosa\" , \"Versicolor\" , \"Virginica\" ]\n",
    "COLUMN_NAME = [\"Sepal length\", \"Sepal width\" , \"Petal length\" , \"Petal width\" , \"Label\"]"
   ]
  },
  {
   "cell_type": "code",
   "execution_count": 245,
   "metadata": {},
   "outputs": [],
   "source": [
    "def load_iris_file(with_name:bool=False)->pd.DataFrame:\n",
    "    df = pd.read_fwf(\"./iris.txt\")\n",
    "    \n",
    "    df_new = pd.DataFrame({k:[v] for k ,v in zip(COLUMN_NAME , df.columns)},dtype=float)\n",
    "    df.columns = COLUMN_NAME\n",
    "    df_new = pd.concat([df_new, df],axis=0).reset_index().drop(columns=[\"index\"])\n",
    "    \n",
    "    if not with_name:\n",
    "        return df_new\n",
    "    \n",
    "    df_with_name = df_new.copy()\n",
    "    \n",
    "    df_with_name[\"Label\"] = df_with_name[\"Label\"].apply(lambda x : LABEL[int(x)-1])\n",
    "    \n",
    "    return df_with_name"
   ]
  },
  {
   "cell_type": "code",
   "execution_count": 246,
   "metadata": {},
   "outputs": [
    {
     "data": {
      "text/html": [
       "<div>\n",
       "<style scoped>\n",
       "    .dataframe tbody tr th:only-of-type {\n",
       "        vertical-align: middle;\n",
       "    }\n",
       "\n",
       "    .dataframe tbody tr th {\n",
       "        vertical-align: top;\n",
       "    }\n",
       "\n",
       "    .dataframe thead th {\n",
       "        text-align: right;\n",
       "    }\n",
       "</style>\n",
       "<table border=\"1\" class=\"dataframe\">\n",
       "  <thead>\n",
       "    <tr style=\"text-align: right;\">\n",
       "      <th></th>\n",
       "      <th>Sepal length</th>\n",
       "      <th>Sepal width</th>\n",
       "      <th>Petal length</th>\n",
       "      <th>Petal width</th>\n",
       "      <th>Label</th>\n",
       "    </tr>\n",
       "  </thead>\n",
       "  <tbody>\n",
       "    <tr>\n",
       "      <th>0</th>\n",
       "      <td>5.1</td>\n",
       "      <td>3.5</td>\n",
       "      <td>1.4</td>\n",
       "      <td>0.2</td>\n",
       "      <td>Setosa</td>\n",
       "    </tr>\n",
       "    <tr>\n",
       "      <th>1</th>\n",
       "      <td>4.9</td>\n",
       "      <td>3.0</td>\n",
       "      <td>1.4</td>\n",
       "      <td>0.2</td>\n",
       "      <td>Setosa</td>\n",
       "    </tr>\n",
       "    <tr>\n",
       "      <th>2</th>\n",
       "      <td>4.7</td>\n",
       "      <td>3.2</td>\n",
       "      <td>1.3</td>\n",
       "      <td>0.2</td>\n",
       "      <td>Setosa</td>\n",
       "    </tr>\n",
       "    <tr>\n",
       "      <th>3</th>\n",
       "      <td>4.6</td>\n",
       "      <td>3.1</td>\n",
       "      <td>1.5</td>\n",
       "      <td>0.2</td>\n",
       "      <td>Setosa</td>\n",
       "    </tr>\n",
       "    <tr>\n",
       "      <th>4</th>\n",
       "      <td>5.0</td>\n",
       "      <td>3.6</td>\n",
       "      <td>1.4</td>\n",
       "      <td>0.2</td>\n",
       "      <td>Setosa</td>\n",
       "    </tr>\n",
       "    <tr>\n",
       "      <th>...</th>\n",
       "      <td>...</td>\n",
       "      <td>...</td>\n",
       "      <td>...</td>\n",
       "      <td>...</td>\n",
       "      <td>...</td>\n",
       "    </tr>\n",
       "    <tr>\n",
       "      <th>145</th>\n",
       "      <td>6.7</td>\n",
       "      <td>3.0</td>\n",
       "      <td>5.2</td>\n",
       "      <td>2.3</td>\n",
       "      <td>Virginica</td>\n",
       "    </tr>\n",
       "    <tr>\n",
       "      <th>146</th>\n",
       "      <td>6.3</td>\n",
       "      <td>2.5</td>\n",
       "      <td>5.0</td>\n",
       "      <td>1.9</td>\n",
       "      <td>Virginica</td>\n",
       "    </tr>\n",
       "    <tr>\n",
       "      <th>147</th>\n",
       "      <td>6.5</td>\n",
       "      <td>3.0</td>\n",
       "      <td>5.2</td>\n",
       "      <td>2.0</td>\n",
       "      <td>Virginica</td>\n",
       "    </tr>\n",
       "    <tr>\n",
       "      <th>148</th>\n",
       "      <td>6.2</td>\n",
       "      <td>3.4</td>\n",
       "      <td>5.4</td>\n",
       "      <td>2.3</td>\n",
       "      <td>Virginica</td>\n",
       "    </tr>\n",
       "    <tr>\n",
       "      <th>149</th>\n",
       "      <td>5.9</td>\n",
       "      <td>3.0</td>\n",
       "      <td>5.1</td>\n",
       "      <td>1.8</td>\n",
       "      <td>Virginica</td>\n",
       "    </tr>\n",
       "  </tbody>\n",
       "</table>\n",
       "<p>150 rows × 5 columns</p>\n",
       "</div>"
      ],
      "text/plain": [
       "     Sepal length  Sepal width  Petal length  Petal width      Label\n",
       "0             5.1          3.5           1.4          0.2     Setosa\n",
       "1             4.9          3.0           1.4          0.2     Setosa\n",
       "2             4.7          3.2           1.3          0.2     Setosa\n",
       "3             4.6          3.1           1.5          0.2     Setosa\n",
       "4             5.0          3.6           1.4          0.2     Setosa\n",
       "..            ...          ...           ...          ...        ...\n",
       "145           6.7          3.0           5.2          2.3  Virginica\n",
       "146           6.3          2.5           5.0          1.9  Virginica\n",
       "147           6.5          3.0           5.2          2.0  Virginica\n",
       "148           6.2          3.4           5.4          2.3  Virginica\n",
       "149           5.9          3.0           5.1          1.8  Virginica\n",
       "\n",
       "[150 rows x 5 columns]"
      ]
     },
     "execution_count": 246,
     "metadata": {},
     "output_type": "execute_result"
    }
   ],
   "source": [
    "df = load_iris_file(with_name=True)\n",
    "df"
   ]
  },
  {
   "cell_type": "code",
   "execution_count": 247,
   "metadata": {},
   "outputs": [],
   "source": [
    "POSITIVE_CLASS ,NEGATIVE_CLASS= \"Versicolor\" , \"Virginica\""
   ]
  },
  {
   "cell_type": "markdown",
   "metadata": {},
   "source": [
    "## Part 2"
   ]
  },
  {
   "cell_type": "code",
   "execution_count": 248,
   "metadata": {},
   "outputs": [],
   "source": [
    "def build_dataset(df_in:pd.DataFrame)-> dict:\n",
    "    df = df_in.drop(columns=[\"Sepal length\",  \"Sepal width\"])\n",
    "    positive_training_data = df[df[\"Label\"]==POSITIVE_CLASS].copy()\n",
    "    negative_training_data = df[df[\"Label\"]==NEGATIVE_CLASS].copy()\n",
    "    \n",
    "    before_cross_train = [positive_training_data[:25], negative_training_data[:25]]\n",
    "    before_cross_test = [positive_training_data[25:] , negative_training_data[25:]]\n",
    "\n",
    "    def merge_dataset(df_list:list[pd.DataFrame]):\n",
    "        return pd.concat(df_list).reset_index().drop(columns=[\"index\"])\n",
    "    \n",
    "    before_cross_dataset = {\n",
    "        \"train\":merge_dataset(before_cross_train),\n",
    "        \"test\":merge_dataset(before_cross_test),\n",
    "    }\n",
    "    \n",
    "    after_cross_dataset = {\n",
    "        \"train\":merge_dataset(before_cross_test),\n",
    "        \"test\":merge_dataset(before_cross_train),\n",
    "    }\n",
    "        \n",
    "    return {\n",
    "        \"before\": before_cross_dataset , \n",
    "        \"after\":after_cross_dataset\n",
    "    }"
   ]
  },
  {
   "cell_type": "code",
   "execution_count": 249,
   "metadata": {},
   "outputs": [
    {
     "data": {
      "text/plain": [
       "{'before': {'train':     Petal length  Petal width       Label\n",
       "  0            4.7          1.4  Versicolor\n",
       "  1            4.5          1.5  Versicolor\n",
       "  2            4.9          1.5  Versicolor\n",
       "  3            4.0          1.3  Versicolor\n",
       "  4            4.6          1.5  Versicolor\n",
       "  5            4.5          1.3  Versicolor\n",
       "  6            4.7          1.6  Versicolor\n",
       "  7            3.3          1.0  Versicolor\n",
       "  8            4.6          1.3  Versicolor\n",
       "  9            3.9          1.4  Versicolor\n",
       "  10           3.5          1.0  Versicolor\n",
       "  11           4.2          1.5  Versicolor\n",
       "  12           4.0          1.0  Versicolor\n",
       "  13           4.7          1.4  Versicolor\n",
       "  14           3.6          1.3  Versicolor\n",
       "  15           4.4          1.4  Versicolor\n",
       "  16           4.5          1.5  Versicolor\n",
       "  17           4.1          1.0  Versicolor\n",
       "  18           4.5          1.5  Versicolor\n",
       "  19           3.9          1.1  Versicolor\n",
       "  20           4.8          1.8  Versicolor\n",
       "  21           4.0          1.3  Versicolor\n",
       "  22           4.9          1.5  Versicolor\n",
       "  23           4.7          1.2  Versicolor\n",
       "  24           4.3          1.3  Versicolor\n",
       "  25           6.0          2.5   Virginica\n",
       "  26           5.1          1.9   Virginica\n",
       "  27           5.9          2.1   Virginica\n",
       "  28           5.6          1.8   Virginica\n",
       "  29           5.8          2.2   Virginica\n",
       "  30           6.6          2.1   Virginica\n",
       "  31           4.5          1.7   Virginica\n",
       "  32           6.3          1.8   Virginica\n",
       "  33           5.8          1.8   Virginica\n",
       "  34           6.1          2.5   Virginica\n",
       "  35           5.1          2.0   Virginica\n",
       "  36           5.3          1.9   Virginica\n",
       "  37           5.5          2.1   Virginica\n",
       "  38           5.0          2.0   Virginica\n",
       "  39           5.1          2.4   Virginica\n",
       "  40           5.3          2.3   Virginica\n",
       "  41           5.5          1.8   Virginica\n",
       "  42           6.7          2.2   Virginica\n",
       "  43           6.9          2.3   Virginica\n",
       "  44           5.0          1.5   Virginica\n",
       "  45           5.7          2.3   Virginica\n",
       "  46           4.9          2.0   Virginica\n",
       "  47           6.7          2.0   Virginica\n",
       "  48           4.9          1.8   Virginica\n",
       "  49           5.7          2.1   Virginica,\n",
       "  'test':     Petal length  Petal width       Label\n",
       "  0            4.4          1.4  Versicolor\n",
       "  1            4.8          1.4  Versicolor\n",
       "  2            5.0          1.7  Versicolor\n",
       "  3            4.5          1.5  Versicolor\n",
       "  4            3.5          1.0  Versicolor\n",
       "  5            3.8          1.1  Versicolor\n",
       "  6            3.7          1.0  Versicolor\n",
       "  7            3.9          1.2  Versicolor\n",
       "  8            5.1          1.6  Versicolor\n",
       "  9            4.5          1.5  Versicolor\n",
       "  10           4.5          1.6  Versicolor\n",
       "  11           4.7          1.5  Versicolor\n",
       "  12           4.4          1.3  Versicolor\n",
       "  13           4.1          1.3  Versicolor\n",
       "  14           4.0          1.3  Versicolor\n",
       "  15           4.4          1.2  Versicolor\n",
       "  16           4.6          1.4  Versicolor\n",
       "  17           4.0          1.2  Versicolor\n",
       "  18           3.3          1.0  Versicolor\n",
       "  19           4.2          1.3  Versicolor\n",
       "  20           4.2          1.2  Versicolor\n",
       "  21           4.2          1.3  Versicolor\n",
       "  22           4.3          1.3  Versicolor\n",
       "  23           3.0          1.1  Versicolor\n",
       "  24           4.1          1.3  Versicolor\n",
       "  25           6.0          1.8   Virginica\n",
       "  26           4.8          1.8   Virginica\n",
       "  27           4.9          1.8   Virginica\n",
       "  28           5.6          2.1   Virginica\n",
       "  29           5.8          1.6   Virginica\n",
       "  30           6.1          1.9   Virginica\n",
       "  31           6.4          2.0   Virginica\n",
       "  32           5.6          2.2   Virginica\n",
       "  33           5.1          1.5   Virginica\n",
       "  34           5.6          1.4   Virginica\n",
       "  35           6.1          2.3   Virginica\n",
       "  36           5.6          2.4   Virginica\n",
       "  37           5.5          1.8   Virginica\n",
       "  38           4.8          1.8   Virginica\n",
       "  39           5.4          2.1   Virginica\n",
       "  40           5.6          2.4   Virginica\n",
       "  41           5.1          2.3   Virginica\n",
       "  42           5.1          1.9   Virginica\n",
       "  43           5.9          2.3   Virginica\n",
       "  44           5.7          2.5   Virginica\n",
       "  45           5.2          2.3   Virginica\n",
       "  46           5.0          1.9   Virginica\n",
       "  47           5.2          2.0   Virginica\n",
       "  48           5.4          2.3   Virginica\n",
       "  49           5.1          1.8   Virginica},\n",
       " 'after': {'train':     Petal length  Petal width       Label\n",
       "  0            4.4          1.4  Versicolor\n",
       "  1            4.8          1.4  Versicolor\n",
       "  2            5.0          1.7  Versicolor\n",
       "  3            4.5          1.5  Versicolor\n",
       "  4            3.5          1.0  Versicolor\n",
       "  5            3.8          1.1  Versicolor\n",
       "  6            3.7          1.0  Versicolor\n",
       "  7            3.9          1.2  Versicolor\n",
       "  8            5.1          1.6  Versicolor\n",
       "  9            4.5          1.5  Versicolor\n",
       "  10           4.5          1.6  Versicolor\n",
       "  11           4.7          1.5  Versicolor\n",
       "  12           4.4          1.3  Versicolor\n",
       "  13           4.1          1.3  Versicolor\n",
       "  14           4.0          1.3  Versicolor\n",
       "  15           4.4          1.2  Versicolor\n",
       "  16           4.6          1.4  Versicolor\n",
       "  17           4.0          1.2  Versicolor\n",
       "  18           3.3          1.0  Versicolor\n",
       "  19           4.2          1.3  Versicolor\n",
       "  20           4.2          1.2  Versicolor\n",
       "  21           4.2          1.3  Versicolor\n",
       "  22           4.3          1.3  Versicolor\n",
       "  23           3.0          1.1  Versicolor\n",
       "  24           4.1          1.3  Versicolor\n",
       "  25           6.0          1.8   Virginica\n",
       "  26           4.8          1.8   Virginica\n",
       "  27           4.9          1.8   Virginica\n",
       "  28           5.6          2.1   Virginica\n",
       "  29           5.8          1.6   Virginica\n",
       "  30           6.1          1.9   Virginica\n",
       "  31           6.4          2.0   Virginica\n",
       "  32           5.6          2.2   Virginica\n",
       "  33           5.1          1.5   Virginica\n",
       "  34           5.6          1.4   Virginica\n",
       "  35           6.1          2.3   Virginica\n",
       "  36           5.6          2.4   Virginica\n",
       "  37           5.5          1.8   Virginica\n",
       "  38           4.8          1.8   Virginica\n",
       "  39           5.4          2.1   Virginica\n",
       "  40           5.6          2.4   Virginica\n",
       "  41           5.1          2.3   Virginica\n",
       "  42           5.1          1.9   Virginica\n",
       "  43           5.9          2.3   Virginica\n",
       "  44           5.7          2.5   Virginica\n",
       "  45           5.2          2.3   Virginica\n",
       "  46           5.0          1.9   Virginica\n",
       "  47           5.2          2.0   Virginica\n",
       "  48           5.4          2.3   Virginica\n",
       "  49           5.1          1.8   Virginica,\n",
       "  'test':     Petal length  Petal width       Label\n",
       "  0            4.7          1.4  Versicolor\n",
       "  1            4.5          1.5  Versicolor\n",
       "  2            4.9          1.5  Versicolor\n",
       "  3            4.0          1.3  Versicolor\n",
       "  4            4.6          1.5  Versicolor\n",
       "  5            4.5          1.3  Versicolor\n",
       "  6            4.7          1.6  Versicolor\n",
       "  7            3.3          1.0  Versicolor\n",
       "  8            4.6          1.3  Versicolor\n",
       "  9            3.9          1.4  Versicolor\n",
       "  10           3.5          1.0  Versicolor\n",
       "  11           4.2          1.5  Versicolor\n",
       "  12           4.0          1.0  Versicolor\n",
       "  13           4.7          1.4  Versicolor\n",
       "  14           3.6          1.3  Versicolor\n",
       "  15           4.4          1.4  Versicolor\n",
       "  16           4.5          1.5  Versicolor\n",
       "  17           4.1          1.0  Versicolor\n",
       "  18           4.5          1.5  Versicolor\n",
       "  19           3.9          1.1  Versicolor\n",
       "  20           4.8          1.8  Versicolor\n",
       "  21           4.0          1.3  Versicolor\n",
       "  22           4.9          1.5  Versicolor\n",
       "  23           4.7          1.2  Versicolor\n",
       "  24           4.3          1.3  Versicolor\n",
       "  25           6.0          2.5   Virginica\n",
       "  26           5.1          1.9   Virginica\n",
       "  27           5.9          2.1   Virginica\n",
       "  28           5.6          1.8   Virginica\n",
       "  29           5.8          2.2   Virginica\n",
       "  30           6.6          2.1   Virginica\n",
       "  31           4.5          1.7   Virginica\n",
       "  32           6.3          1.8   Virginica\n",
       "  33           5.8          1.8   Virginica\n",
       "  34           6.1          2.5   Virginica\n",
       "  35           5.1          2.0   Virginica\n",
       "  36           5.3          1.9   Virginica\n",
       "  37           5.5          2.1   Virginica\n",
       "  38           5.0          2.0   Virginica\n",
       "  39           5.1          2.4   Virginica\n",
       "  40           5.3          2.3   Virginica\n",
       "  41           5.5          1.8   Virginica\n",
       "  42           6.7          2.2   Virginica\n",
       "  43           6.9          2.3   Virginica\n",
       "  44           5.0          1.5   Virginica\n",
       "  45           5.7          2.3   Virginica\n",
       "  46           4.9          2.0   Virginica\n",
       "  47           6.7          2.0   Virginica\n",
       "  48           4.9          1.8   Virginica\n",
       "  49           5.7          2.1   Virginica}}"
      ]
     },
     "execution_count": 249,
     "metadata": {},
     "output_type": "execute_result"
    }
   ],
   "source": [
    "dataset = build_dataset(df)\n",
    "dataset"
   ]
  },
  {
   "cell_type": "code",
   "execution_count": 250,
   "metadata": {},
   "outputs": [],
   "source": [
    "# check the data\n",
    "assert all(dataset[\"before\"][\"train\"] == dataset[\"after\"][\"test\"])\n",
    "assert all(dataset[\"before\"][\"test\"] == dataset[\"after\"][\"train\"])"
   ]
  },
  {
   "cell_type": "code",
   "execution_count": 264,
   "metadata": {},
   "outputs": [],
   "source": [
    "class Lda:\n",
    "    # DISPLAY_CLASS = [POSITIVE_CLASS , NEGATIVE_CLASS]\n",
    "    \n",
    "    def __init__(self , positive_class:str , negative_class:str):\n",
    "        self._w :np.ndarray = None\n",
    "        self._cov_matrix :np.ndarray= None\n",
    "        self._b = None\n",
    "        \n",
    "        self._positive_class :str = positive_class \n",
    "        self._negative_class :str = negative_class\n",
    "        self._display_class = [self._negative_class ,self._positive_class]\n",
    "        return\n",
    "    \n",
    "    @property\n",
    "    def w(self)->np.ndarray:\n",
    "        return self._w\n",
    "    \n",
    "    @property\n",
    "    def b(self):\n",
    "        return self._b\n",
    "    \n",
    "    @property\n",
    "    def cov_matrix(self)->np.ndarray:\n",
    "        return self._cov_matrix\n",
    "    \n",
    "    @staticmethod\n",
    "    def _build_mean_and_cov(data_in: np.ndarray):\n",
    "        mean  = np.mean(data_in , axis=0)\n",
    "        cov = np.cov(data_in.T)\n",
    "        return mean , cov\n",
    "    \n",
    "    def fit(self , data_in:pd.DataFrame , c1:int=1, c2:int=1)->None:\n",
    "        positive_data = data_in[data_in[\"Label\"] == self._positive_class]\n",
    "        negative_data = data_in[data_in[\"Label\"] == self._negative_class]\n",
    "        \n",
    "        positive_data = positive_data.drop(columns=[\"Label\"]).to_numpy()\n",
    "        negative_data = negative_data.drop(columns=[\"Label\"]).to_numpy()\n",
    "        \n",
    "        positive_mean , positive_cov = Lda._build_mean_and_cov(positive_data)\n",
    "        negative_mean , negative_cov = Lda._build_mean_and_cov(negative_data)\n",
    "        \n",
    "        positive_len , negative_len = len(positive_data) , len(negative_data)\n",
    "        \n",
    "        total = positive_len + negative_len\n",
    "        p1 , p2 = positive_len / total, negative_len / total\n",
    "        \n",
    "        # cov matrix\n",
    "        self._cov_matrix = p1 * positive_cov + p2 * negative_cov\n",
    "        \n",
    "        inv_cov = np.linalg.pinv(self._cov_matrix)\n",
    "        \n",
    "        # weight\n",
    "        self._w = (positive_mean - negative_mean).T @ inv_cov\n",
    "        \n",
    "        # b\n",
    "        self._b = -(1/2)*(positive_mean - negative_mean).T @ inv_cov @ (positive_mean + negative_mean) - np.log((c1*p2)/ (c2*p1))\n",
    "        \n",
    "        return  \n",
    "    \n",
    "    def predict(self, x:np.ndarray):\n",
    "        return self._w.T @ x + self._b\n",
    "    \n",
    "    def predict_with_df(self, x_df:pd.DataFrame)->np.ndarray:\n",
    "        np_array = x_df.drop(columns=[\"Label\"]).to_numpy().T\n",
    "        result = self.predict(np_array)\n",
    "        arr_item = np.array([self._display_class[int(item)] for item in result > 0])\n",
    "        return arr_item\n",
    "    \n",
    "    def acc(self , x_df: pd.DataFrame)-> float:\n",
    "        \n",
    "        predict_out = self.predict_with_df(x_df)\n",
    "        true_label = x_df[\"Label\"]\n",
    "        \n",
    "        return float(sum(predict_out == true_label.to_numpy()) / len(true_label))\n",
    "    \n",
    "    def __call__(self,x:np.ndarray) -> np.ndarray:\n",
    "        return self.predict(x)\n",
    "    \n",
    "    def __repr__(self) -> str:\n",
    "        if self._w is None or self._b is None or self._cov_matrix is None:\n",
    "            return \"Model is not fitted\"\n",
    "        \n",
    "        return f\"W : {self._w} B : {self._b:.2f} Cov:{self._cov_matrix}\"\n",
    "    \n",
    "    def __str__(self) -> str:\n",
    "        if self._w is None or self._b is None or self._cov_matrix is None:\n",
    "            return \"Model is not fitted\"\n",
    "        \n",
    "        return f\"W : {self._w}\\nB : {self._b:.2f}\\nCov:{self._cov_matrix}\"\n",
    "        "
   ]
  },
  {
   "cell_type": "code",
   "execution_count": 265,
   "metadata": {},
   "outputs": [],
   "source": [
    "data_result = dict()"
   ]
  },
  {
   "cell_type": "code",
   "execution_count": 268,
   "metadata": {},
   "outputs": [],
   "source": [
    "lda_model = Lda(positive_class=POSITIVE_CLASS , negative_class=NEGATIVE_CLASS)"
   ]
  },
  {
   "cell_type": "code",
   "execution_count": 269,
   "metadata": {},
   "outputs": [],
   "source": [
    "lda_model.fit(dataset[\"before\"][\"train\"])"
   ]
  },
  {
   "cell_type": "code",
   "execution_count": 270,
   "metadata": {},
   "outputs": [
    {
     "data": {
      "text/html": [
       "<pre style=\"white-space:pre;overflow-x:auto;line-height:normal;font-family:Menlo,'DejaVu Sans Mono',consolas,'Courier New',monospace\">W : <span style=\"font-weight: bold\">[</span> <span style=\"color: #008080; text-decoration-color: #008080; font-weight: bold\">-2.09</span> <span style=\"color: #008080; text-decoration-color: #008080; font-weight: bold\">-10.46</span><span style=\"font-weight: bold\">]</span>\n",
       "B : <span style=\"color: #008080; text-decoration-color: #008080; font-weight: bold\">28.10</span>\n",
       "Cov:<span style=\"font-weight: bold\">[[</span><span style=\"color: #008080; text-decoration-color: #008080; font-weight: bold\">0.31</span> <span style=\"color: #008080; text-decoration-color: #008080; font-weight: bold\">0.07</span><span style=\"font-weight: bold\">]</span>\n",
       " <span style=\"font-weight: bold\">[</span><span style=\"color: #008080; text-decoration-color: #008080; font-weight: bold\">0.07</span> <span style=\"color: #008080; text-decoration-color: #008080; font-weight: bold\">0.05</span><span style=\"font-weight: bold\">]]</span>\n",
       "</pre>\n"
      ],
      "text/plain": [
       "W : \u001b[1m[\u001b[0m \u001b[1;36m-2.09\u001b[0m \u001b[1;36m-10.46\u001b[0m\u001b[1m]\u001b[0m\n",
       "B : \u001b[1;36m28.10\u001b[0m\n",
       "Cov:\u001b[1m[\u001b[0m\u001b[1m[\u001b[0m\u001b[1;36m0.31\u001b[0m \u001b[1;36m0.07\u001b[0m\u001b[1m]\u001b[0m\n",
       " \u001b[1m[\u001b[0m\u001b[1;36m0.07\u001b[0m \u001b[1;36m0.05\u001b[0m\u001b[1m]\u001b[0m\u001b[1m]\u001b[0m\n"
      ]
     },
     "metadata": {},
     "output_type": "display_data"
    }
   ],
   "source": [
    "print(lda_model)"
   ]
  },
  {
   "cell_type": "code",
   "execution_count": 271,
   "metadata": {},
   "outputs": [
    {
     "data": {
      "text/html": [
       "<pre style=\"white-space:pre;overflow-x:auto;line-height:normal;font-family:Menlo,'DejaVu Sans Mono',consolas,'Courier New',monospace\"><span style=\"color: #008080; text-decoration-color: #008080; font-weight: bold\">94.00</span>%\n",
       "</pre>\n"
      ],
      "text/plain": [
       "\u001b[1;36m94.00\u001b[0m%\n"
      ]
     },
     "metadata": {},
     "output_type": "display_data"
    }
   ],
   "source": [
    "before_acc = lda_model.acc(dataset[\"before\"][\"test\"])\n",
    "print(f\"{before_acc*100:.2f}%\")"
   ]
  },
  {
   "cell_type": "code",
   "execution_count": 272,
   "metadata": {},
   "outputs": [],
   "source": [
    "data_result[\"Before\"] = {\"Data\" : str(lda_model) , \"Acc\" : f\"{before_acc:.2f}\"}"
   ]
  },
  {
   "cell_type": "code",
   "execution_count": 273,
   "metadata": {},
   "outputs": [],
   "source": [
    "lda_model = Lda(positive_class=POSITIVE_CLASS , negative_class=NEGATIVE_CLASS)"
   ]
  },
  {
   "cell_type": "code",
   "execution_count": 274,
   "metadata": {},
   "outputs": [],
   "source": [
    "lda_model.fit(dataset[\"after\"][\"train\"])"
   ]
  },
  {
   "cell_type": "code",
   "execution_count": 275,
   "metadata": {},
   "outputs": [
    {
     "data": {
      "text/html": [
       "<pre style=\"white-space:pre;overflow-x:auto;line-height:normal;font-family:Menlo,'DejaVu Sans Mono',consolas,'Courier New',monospace\">W : <span style=\"font-weight: bold\">[</span><span style=\"color: #008080; text-decoration-color: #008080; font-weight: bold\">-3.73</span> <span style=\"color: #008080; text-decoration-color: #008080; font-weight: bold\">-7.85</span><span style=\"font-weight: bold\">]</span>\n",
       "B : <span style=\"color: #008080; text-decoration-color: #008080; font-weight: bold\">31.08</span>\n",
       "Cov:<span style=\"font-weight: bold\">[[</span><span style=\"color: #008080; text-decoration-color: #008080; font-weight: bold\">0.22</span> <span style=\"color: #008080; text-decoration-color: #008080; font-weight: bold\">0.06</span><span style=\"font-weight: bold\">]</span>\n",
       " <span style=\"font-weight: bold\">[</span><span style=\"color: #008080; text-decoration-color: #008080; font-weight: bold\">0.06</span> <span style=\"color: #008080; text-decoration-color: #008080; font-weight: bold\">0.06</span><span style=\"font-weight: bold\">]]</span>\n",
       "</pre>\n"
      ],
      "text/plain": [
       "W : \u001b[1m[\u001b[0m\u001b[1;36m-3.73\u001b[0m \u001b[1;36m-7.85\u001b[0m\u001b[1m]\u001b[0m\n",
       "B : \u001b[1;36m31.08\u001b[0m\n",
       "Cov:\u001b[1m[\u001b[0m\u001b[1m[\u001b[0m\u001b[1;36m0.22\u001b[0m \u001b[1;36m0.06\u001b[0m\u001b[1m]\u001b[0m\n",
       " \u001b[1m[\u001b[0m\u001b[1;36m0.06\u001b[0m \u001b[1;36m0.06\u001b[0m\u001b[1m]\u001b[0m\u001b[1m]\u001b[0m\n"
      ]
     },
     "metadata": {},
     "output_type": "display_data"
    }
   ],
   "source": [
    "print(lda_model)"
   ]
  },
  {
   "cell_type": "code",
   "execution_count": 276,
   "metadata": {},
   "outputs": [
    {
     "data": {
      "text/html": [
       "<pre style=\"white-space:pre;overflow-x:auto;line-height:normal;font-family:Menlo,'DejaVu Sans Mono',consolas,'Courier New',monospace\"><span style=\"color: #008080; text-decoration-color: #008080; font-weight: bold\">94.00</span>%\n",
       "</pre>\n"
      ],
      "text/plain": [
       "\u001b[1;36m94.00\u001b[0m%\n"
      ]
     },
     "metadata": {},
     "output_type": "display_data"
    }
   ],
   "source": [
    "after_acc = lda_model.acc(dataset[\"after\"][\"test\"])\n",
    "print(f\"{after_acc*100:.2f}%\")"
   ]
  },
  {
   "cell_type": "code",
   "execution_count": 277,
   "metadata": {},
   "outputs": [],
   "source": [
    "data_result[\"After\"] = {\"Data\" : str(lda_model) , \"Acc\" : f\"{after_acc:.2f}\"}"
   ]
  },
  {
   "cell_type": "code",
   "execution_count": 278,
   "metadata": {},
   "outputs": [
    {
     "data": {
      "text/html": [
       "<pre style=\"white-space:pre;overflow-x:auto;line-height:normal;font-family:Menlo,'DejaVu Sans Mono',consolas,'Courier New',monospace\">Avg acc :  <span style=\"color: #008080; text-decoration-color: #008080; font-weight: bold\">94.00</span>%\n",
       "</pre>\n"
      ],
      "text/plain": [
       "Avg acc :  \u001b[1;36m94.00\u001b[0m%\n"
      ]
     },
     "metadata": {},
     "output_type": "display_data"
    },
    {
     "data": {
      "text/html": [
       "<pre style=\"white-space:pre;overflow-x:auto;line-height:normal;font-family:Menlo,'DejaVu Sans Mono',consolas,'Courier New',monospace\"><span style=\"font-weight: bold\">{</span>\n",
       "    <span style=\"color: #008000; text-decoration-color: #008000\">'Before'</span>: <span style=\"font-weight: bold\">{</span><span style=\"color: #008000; text-decoration-color: #008000\">'Data'</span>: <span style=\"color: #008000; text-decoration-color: #008000\">'W : [ -2.09 -10.46]\\nB : 28.10\\nCov:[[0.31 0.07]\\n [0.07 0.05]]'</span>, <span style=\"color: #008000; text-decoration-color: #008000\">'Acc'</span>: <span style=\"color: #008000; text-decoration-color: #008000\">'0.94'</span><span style=\"font-weight: bold\">}</span>,\n",
       "    <span style=\"color: #008000; text-decoration-color: #008000\">'After'</span>: <span style=\"font-weight: bold\">{</span><span style=\"color: #008000; text-decoration-color: #008000\">'Data'</span>: <span style=\"color: #008000; text-decoration-color: #008000\">'W : [-3.73 -7.85]\\nB : 31.08\\nCov:[[0.22 0.06]\\n [0.06 0.06]]'</span>, <span style=\"color: #008000; text-decoration-color: #008000\">'Acc'</span>: <span style=\"color: #008000; text-decoration-color: #008000\">'0.94'</span><span style=\"font-weight: bold\">}</span>\n",
       "<span style=\"font-weight: bold\">}</span>\n",
       "</pre>\n"
      ],
      "text/plain": [
       "\u001b[1m{\u001b[0m\n",
       "    \u001b[32m'Before'\u001b[0m: \u001b[1m{\u001b[0m\u001b[32m'Data'\u001b[0m: \u001b[32m'W : \u001b[0m\u001b[32m[\u001b[0m\u001b[32m -2.09 -10.46\u001b[0m\u001b[32m]\u001b[0m\u001b[32m\\nB : 28.10\\nCov:\u001b[0m\u001b[32m[\u001b[0m\u001b[32m[\u001b[0m\u001b[32m0.31 0.07\u001b[0m\u001b[32m]\u001b[0m\u001b[32m\\n \u001b[0m\u001b[32m[\u001b[0m\u001b[32m0.07 0.05\u001b[0m\u001b[32m]\u001b[0m\u001b[32m]\u001b[0m\u001b[32m'\u001b[0m, \u001b[32m'Acc'\u001b[0m: \u001b[32m'0.94'\u001b[0m\u001b[1m}\u001b[0m,\n",
       "    \u001b[32m'After'\u001b[0m: \u001b[1m{\u001b[0m\u001b[32m'Data'\u001b[0m: \u001b[32m'W : \u001b[0m\u001b[32m[\u001b[0m\u001b[32m-3.73 -7.85\u001b[0m\u001b[32m]\u001b[0m\u001b[32m\\nB : 31.08\\nCov:\u001b[0m\u001b[32m[\u001b[0m\u001b[32m[\u001b[0m\u001b[32m0.22 0.06\u001b[0m\u001b[32m]\u001b[0m\u001b[32m\\n \u001b[0m\u001b[32m[\u001b[0m\u001b[32m0.06 0.06\u001b[0m\u001b[32m]\u001b[0m\u001b[32m]\u001b[0m\u001b[32m'\u001b[0m, \u001b[32m'Acc'\u001b[0m: \u001b[32m'0.94'\u001b[0m\u001b[1m}\u001b[0m\n",
       "\u001b[1m}\u001b[0m\n"
      ]
     },
     "metadata": {},
     "output_type": "display_data"
    }
   ],
   "source": [
    "avg_acc = (before_acc + after_acc) / 2\n",
    "print(f\"Avg acc : {avg_acc * 100 : .2f}%\")\n",
    "print(data_result)"
   ]
  },
  {
   "cell_type": "markdown",
   "metadata": {},
   "source": [
    "## Part 3"
   ]
  },
  {
   "cell_type": "code",
   "execution_count": null,
   "metadata": {},
   "outputs": [],
   "source": [
    "def build_multi_dataset():\n",
    "    return "
   ]
  },
  {
   "cell_type": "code",
   "execution_count": null,
   "metadata": {},
   "outputs": [],
   "source": [
    "class LdaMultiple:\n",
    "    def __init__(self):\n",
    "        return "
   ]
  }
 ],
 "metadata": {
  "kernelspec": {
   "display_name": ".venv",
   "language": "python",
   "name": "python3"
  },
  "language_info": {
   "codemirror_mode": {
    "name": "ipython",
    "version": 3
   },
   "file_extension": ".py",
   "mimetype": "text/x-python",
   "name": "python",
   "nbconvert_exporter": "python",
   "pygments_lexer": "ipython3",
   "version": "3.11.9"
  }
 },
 "nbformat": 4,
 "nbformat_minor": 2
}
